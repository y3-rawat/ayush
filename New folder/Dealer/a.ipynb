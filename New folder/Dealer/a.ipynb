{
 "cells": [
  {
   "cell_type": "code",
   "execution_count": 1,
   "metadata": {},
   "outputs": [],
   "source": [
    "import pandas as pd"
   ]
  },
  {
   "cell_type": "code",
   "execution_count": 3,
   "metadata": {},
   "outputs": [],
   "source": [
    "df = pd.read_json(\"dealer.json\")"
   ]
  },
  {
   "cell_type": "code",
   "execution_count": 15,
   "metadata": {},
   "outputs": [
    {
     "data": {
      "text/html": [
       "<div>\n",
       "<style scoped>\n",
       "    .dataframe tbody tr th:only-of-type {\n",
       "        vertical-align: middle;\n",
       "    }\n",
       "\n",
       "    .dataframe tbody tr th {\n",
       "        vertical-align: top;\n",
       "    }\n",
       "\n",
       "    .dataframe thead th {\n",
       "        text-align: right;\n",
       "    }\n",
       "</style>\n",
       "<table border=\"1\" class=\"dataframe\">\n",
       "  <thead>\n",
       "    <tr style=\"text-align: right;\">\n",
       "      <th></th>\n",
       "      <th>dealer_id</th>\n",
       "      <th>car_added</th>\n",
       "      <th>peoples_visited</th>\n",
       "      <th>visited_logs</th>\n",
       "      <th>Total bid placed on cars</th>\n",
       "      <th>bid_placed_on_cars</th>\n",
       "    </tr>\n",
       "  </thead>\n",
       "  <tbody>\n",
       "    <tr>\n",
       "      <th>0</th>\n",
       "      <td>1</td>\n",
       "      <td>{'Ferrari 488 Pista': 100000, 'McLaren 720S': ...</td>\n",
       "      <td>450</td>\n",
       "      <td>{'Ferrari 488 Pista': 200, 'McLaren 720S': 150...</td>\n",
       "      <td>70000</td>\n",
       "      <td>{'Ferrari 488 Pista': 30000, 'McLaren 720S': 2...</td>\n",
       "    </tr>\n",
       "  </tbody>\n",
       "</table>\n",
       "</div>"
      ],
      "text/plain": [
       "   dealer_id                                          car_added  \\\n",
       "0          1  {'Ferrari 488 Pista': 100000, 'McLaren 720S': ...   \n",
       "\n",
       "   peoples_visited                                       visited_logs  \\\n",
       "0              450  {'Ferrari 488 Pista': 200, 'McLaren 720S': 150...   \n",
       "\n",
       "   Total bid placed on cars                                 bid_placed_on_cars  \n",
       "0                     70000  {'Ferrari 488 Pista': 30000, 'McLaren 720S': 2...  "
      ]
     },
     "execution_count": 15,
     "metadata": {},
     "output_type": "execute_result"
    }
   ],
   "source": [
    "df.head(1)"
   ]
  },
  {
   "cell_type": "code",
   "execution_count": 4,
   "metadata": {},
   "outputs": [
    {
     "data": {
      "text/plain": [
       "0    {'Ferrari 488 Pista': 100000, 'McLaren 720S': ...\n",
       "1    {'2014 Lamborghini Aventador': 35000, 'Ferrari...\n",
       "2    {'McLaren 720S': 100000, 'MARK IV RED': 47200,...\n",
       "3    {'Ferrari 458': 255000, 'Ferrari 488 Pista': 1...\n",
       "4    {'MARK IV RED': 47200, '2014 Lamborghini Avent...\n",
       "5    {'Ferrari 488 Pista': 100000, 'McLaren 720S': ...\n",
       "6    {'2014 Lamborghini Aventador': 35000, 'Ferrari...\n",
       "Name: car_added, dtype: object"
      ]
     },
     "execution_count": 4,
     "metadata": {},
     "output_type": "execute_result"
    }
   ],
   "source": [
    "df[\"car_added\"]"
   ]
  },
  {
   "cell_type": "code",
   "execution_count": 17,
   "metadata": {},
   "outputs": [],
   "source": [
    "d = df.where(df.dealer_id == 1).dropna().iloc[0]"
   ]
  },
  {
   "cell_type": "code",
   "execution_count": 18,
   "metadata": {},
   "outputs": [
    {
     "data": {
      "text/plain": [
       "dealer_id                                                                 1.0\n",
       "car_added                   {'Ferrari 488 Pista': 100000, 'McLaren 720S': ...\n",
       "peoples_visited                                                         450.0\n",
       "visited_logs                {'Ferrari 488 Pista': 200, 'McLaren 720S': 150...\n",
       "Total bid placed on cars                                              70000.0\n",
       "bid_placed_on_cars          {'Ferrari 488 Pista': 30000, 'McLaren 720S': 2...\n",
       "Name: 0, dtype: object"
      ]
     },
     "execution_count": 18,
     "metadata": {},
     "output_type": "execute_result"
    }
   ],
   "source": [
    "d"
   ]
  },
  {
   "cell_type": "code",
   "execution_count": null,
   "metadata": {},
   "outputs": [],
   "source": []
  }
 ],
 "metadata": {
  "kernelspec": {
   "display_name": "Python 3",
   "language": "python",
   "name": "python3"
  },
  "language_info": {
   "codemirror_mode": {
    "name": "ipython",
    "version": 3
   },
   "file_extension": ".py",
   "mimetype": "text/x-python",
   "name": "python",
   "nbconvert_exporter": "python",
   "pygments_lexer": "ipython3",
   "version": "3.10.11"
  }
 },
 "nbformat": 4,
 "nbformat_minor": 2
}
