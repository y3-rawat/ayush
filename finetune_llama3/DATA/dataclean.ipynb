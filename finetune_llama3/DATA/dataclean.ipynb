{
 "cells": [
  {
   "cell_type": "code",
   "execution_count": 1,
   "metadata": {},
   "outputs": [],
   "source": [
    "with open ('data.txt',encoding='utf-8') as f:\n",
    "    data = f.readlines()\n",
    "    # data = json.load(f)\n",
    "    # for i in data:\n",
    "    #     if 'data' in i.keys():\n",
    "    #         del i['data']"
   ]
  },
  {
   "cell_type": "code",
   "execution_count": 2,
   "metadata": {},
   "outputs": [
    {
     "data": {
      "text/plain": [
       "785"
      ]
     },
     "execution_count": 2,
     "metadata": {},
     "output_type": "execute_result"
    }
   ],
   "source": [
    "len(data[:])"
   ]
  },
  {
   "cell_type": "code",
   "execution_count": 8,
   "metadata": {},
   "outputs": [
    {
     "ename": "KeyError",
     "evalue": "0",
     "output_type": "error",
     "traceback": [
      "\u001b[1;31m---------------------------------------------------------------------------\u001b[0m",
      "\u001b[1;31mKeyError\u001b[0m                                  Traceback (most recent call last)",
      "Cell \u001b[1;32mIn[8], line 23\u001b[0m\n\u001b[0;32m     20\u001b[0m     \u001b[38;5;28;01mreturn\u001b[39;00m categorized_data\n\u001b[0;32m     22\u001b[0m \u001b[38;5;66;03m# Categorize the data\u001b[39;00m\n\u001b[1;32m---> 23\u001b[0m categorized_data \u001b[38;5;241m=\u001b[39m \u001b[43mcategorize_data\u001b[49m\u001b[43m(\u001b[49m\u001b[43mdata\u001b[49m\u001b[43m)\u001b[49m\n\u001b[0;32m     25\u001b[0m \u001b[38;5;66;03m# Convert to JSON\u001b[39;00m\n\u001b[0;32m     26\u001b[0m json_data \u001b[38;5;241m=\u001b[39m json\u001b[38;5;241m.\u001b[39mdumps(categorized_data, indent\u001b[38;5;241m=\u001b[39m\u001b[38;5;241m4\u001b[39m)\n",
      "Cell \u001b[1;32mIn[8], line 11\u001b[0m, in \u001b[0;36mcategorize_data\u001b[1;34m(data)\u001b[0m\n\u001b[0;32m      9\u001b[0m i \u001b[38;5;241m=\u001b[39m \u001b[38;5;241m0\u001b[39m\n\u001b[0;32m     10\u001b[0m \u001b[38;5;28;01mwhile\u001b[39;00m i \u001b[38;5;241m<\u001b[39m \u001b[38;5;28mlen\u001b[39m(data):\n\u001b[1;32m---> 11\u001b[0m     item \u001b[38;5;241m=\u001b[39m \u001b[43mdata\u001b[49m\u001b[43m[\u001b[49m\u001b[43mi\u001b[49m\u001b[43m]\u001b[49m\u001b[38;5;241m.\u001b[39mstrip()  \u001b[38;5;66;03m# Remove leading/trailing whitespace\u001b[39;00m\n\u001b[0;32m     12\u001b[0m     \u001b[38;5;28;01mif\u001b[39;00m \u001b[38;5;28mlen\u001b[39m(item) \u001b[38;5;241m<\u001b[39m \u001b[38;5;241m40\u001b[39m:\n\u001b[0;32m     13\u001b[0m         heading \u001b[38;5;241m=\u001b[39m item\n",
      "\u001b[1;31mKeyError\u001b[0m: 0"
     ]
    }
   ],
   "source": [
    "import json\n",
    "from langchain.docstore.document import Document\n",
    "\n",
    "\n",
    "\n",
    "# Function to categorize the data\n",
    "def categorize_data(data):\n",
    "    categorized_data = []\n",
    "    i = 0\n",
    "    while i < len(data):\n",
    "        item = data[i].strip()  # Remove leading/trailing whitespace\n",
    "        if len(item) < 40:\n",
    "            heading = item\n",
    "            i += 1\n",
    "            if i < len(data):\n",
    "                paragraph = data[i].strip()\n",
    "                if len(paragraph) >= 40:\n",
    "                    categorized_data.append({\"heading\": heading, \"paragraph\": paragraph})\n",
    "        i += 1\n",
    "    return categorized_data\n",
    "\n",
    "# Categorize the data\n",
    "categorized_data = categorize_data(data)\n",
    "\n",
    "# Convert to JSON\n",
    "json_data = json.dumps(categorized_data, indent=4)\n",
    "\n",
    "# Write to a JSON file\n",
    "with open('categorized_data.json', 'w',encoding='utf-8') as json_file:\n",
    "    json_file.write(json_data)\n",
    "print(\"JSON file\")"
   ]
  },
  {
   "cell_type": "code",
   "execution_count": 37,
   "metadata": {},
   "outputs": [
    {
     "name": "stdout",
     "output_type": "stream",
     "text": [
      "JSON file created\n"
     ]
    }
   ],
   "source": [
    "import json\n",
    "def split_paragraphh(paragraph):\n",
    "    words = paragraph.split()\n",
    "    chunks = []\n",
    "    current_chunk = []\n",
    "\n",
    "    for word in words:\n",
    "        current_chunk.append(word)\n",
    "        if len(\" \".join(current_chunk)) > 100:\n",
    "            chunks.append(\" \".join(current_chunk))\n",
    "            current_chunk = []\n",
    "\n",
    "    if current_chunk:\n",
    "        chunks.append(\" \".join(current_chunk))\n",
    "\n",
    "    return chunks\n",
    "\n",
    "# Function to categorize the data\n",
    "def categorize_data(data):\n",
    "    categorized_data = []\n",
    "    i = 0\n",
    "    while i < len(data):\n",
    "        item = data[i].strip()  # Remove leading/trailing whitespace\n",
    "        if len(item) < 40:\n",
    "            heading = item\n",
    "            i += 1\n",
    "            if i < len(data):\n",
    "                paragraph = data[i].strip()\n",
    "                if len(paragraph) >= 40:\n",
    "                    if len(paragraph) > 300:\n",
    "                        split_paragraphs = split_paragraphh(paragraph)\n",
    "                        for split_paragraph in split_paragraphs:\n",
    "                            categorized_data.append({\"heading\": heading, \"paragraph\": split_paragraph})\n",
    "                    else:\n",
    "                        categorized_data.append({\"heading\": heading, \"paragraph\": paragraph})\n",
    "        i += 1\n",
    "    return categorized_data\n",
    "\n",
    "# Sample data\n",
    "\n",
    "\n",
    "# Categorize the data\n",
    "categorized_data = categorize_data(data)\n",
    "\n",
    "# Convert to JSON\n",
    "json_data = json.dumps(categorized_data, indent=4)\n",
    "\n",
    "# Write to a JSON file\n",
    "with open('categorized_data.json', 'w', encoding='utf-8') as json_file:\n",
    "    json_file.write(json_data)\n",
    "\n",
    "print(\"JSON file created\")\n"
   ]
  },
  {
   "cell_type": "code",
   "execution_count": null,
   "metadata": {},
   "outputs": [],
   "source": []
  },
  {
   "cell_type": "code",
   "execution_count": 11,
   "metadata": {},
   "outputs": [],
   "source": []
  },
  {
   "cell_type": "code",
   "execution_count": 1,
   "metadata": {},
   "outputs": [
    {
     "name": "stdout",
     "output_type": "stream",
     "text": [
      "{'result': {'data': {'json': [{'id': '65cdc4b6c80de2014a79b41c', 'name': 'Ferrari 488 Pista', 'slug': 'ferrari-488-plista', 'price': 100000, 'isFeatured': True, 'heroimagealttag': '', 'description': \"It is a long established fact that a reader will be distracted by the readable content of a page when looking at its layout. The point of using Lorem Ipsum is that it has a more-or-less normal distribution of letters, as opposed to using 'Content here, content here',\", 'year': '2010', 'kilometers': '24000', 'transmission': 'Automatic', 'exteriorcolor': 'puple', 'warranty': 'Available', 'interiorcolor': 'Purple + Black', 'horsepower': '240hp', 'enginesize': '6.6L V12', 'specs': 'GCC', 'vin': 'ZHWUR1ZF7GLA05500', 'forBidding': True, 'heroCarImage': 'https://eurotechtrading.s3.ap-south-1.amazonaws.com/images/trip/img-15.jpg', 'carImages': ['https://eurotechtrading.s3.ap-south-1.amazonaws.com/images/cars/related_0_img-1.png', 'https://eurotechtrading.s3.ap-south-1.amazonaws.com/images/cars/related_1_img-2.png', 'https://eurotechtrading.s3.ap-south-1.amazonaws.com/images/cars/related_2_img-3.png', 'https://eurotechtrading.s3.ap-south-1.amazonaws.com/images/trip/related_0_img-6.png', 'https://eurotechtrading.s3.ap-south-1.amazonaws.com/images/trip/related_1_img-7.jpg'], 'createdAt': '2024-02-15T08:00:52.898Z', 'userId': None, 'dealerId': None}, {'id': '65e583d6473b761be3fddd47', 'name': ' McLaren 720S ', 'slug': 'mc-laren-720s', 'price': 100000, 'isFeatured': True, 'heroimagealttag': 'car', 'description': '2018 McLaren 720S Performance w/ $390K MSRP, FULL Carbon, FULL Stealth PPF, AG Lux Wheels', 'year': '2012', 'kilometers': '24000', 'transmission': 'Automatic', 'exteriorcolor': 'blue', 'warranty': 'Available', 'interiorcolor': 'red', 'horsepower': '240hp', 'enginesize': '6.6L V12', 'specs': 'GCC', 'vin': 'ZHWUR1ZF7GLA05381', 'forBidding': False, 'heroCarImage': 'https://eurotechtrading.s3.ap-south-1.amazonaws.com/images/cars/01.jpg', 'carImages': ['https://eurotechtrading.s3.ap-south-1.amazonaws.com/images/cars/related_1_02.jpg', 'https://eurotechtrading.s3.ap-south-1.amazonaws.com/images/cars/related_2_03.jpg', 'https://eurotechtrading.s3.ap-south-1.amazonaws.com/images/cars/related_0_Used-2017-Rolls-Royce-Ghost-Black-Badge-MASSIVE-416K-MSRP-Bespoke-Audio-Starlight-Driver-Assist-3-1708991165.jpg'], 'createdAt': '2024-03-04T08:18:30.919Z', 'userId': None, 'dealerId': None}, {'id': '65e584fd473b761be3fddd48', 'name': 'MARK IV RED. ', 'slug': 'mark-iv-red', 'price': 47200, 'isFeatured': False, 'heroimagealttag': 'Mark', 'description': 'An American icon, for good reason. Arguably one of the most note worthy domestic cars ever produced, the 2005 Ford GT will always have a place in automotive history. With just over 4000 units ever produced, the value has only gone up over time. This meticulously maintained Mark IV Red spec is a collectors dream, with only 4,742 miles put on it over a 20 year timespan. This GT is a masterpiece, and the perfect car for any collector or automotive enthusiast. ', 'year': '2005', 'kilometers': '4225', 'transmission': 'Automatic', 'exteriorcolor': 'red', 'warranty': 'Available', 'interiorcolor': 'red+white', 'horsepower': '240hp', 'enginesize': '6.6L V12', 'specs': 'GCC', 'vin': 'ZHWUR1ZF7GLA05381', 'forBidding': False, 'heroCarImage': 'https://eurotechtrading.s3.ap-south-1.amazonaws.com/images/cars/06.jpg', 'carImages': ['https://eurotechtrading.s3.ap-south-1.amazonaws.com/images/cars/related_0_6b.jpg', 'https://eurotechtrading.s3.ap-south-1.amazonaws.com/images/cars/related_1_6c.jpg', 'https://eurotechtrading.s3.ap-south-1.amazonaws.com/images/cars/related_2_6d.jpg', 'https://eurotechtrading.s3.ap-south-1.amazonaws.com/images/cars/related_3_6e.jpg', 'https://eurotechtrading.s3.ap-south-1.amazonaws.com/images/cars/related_4_6f.jpg', 'https://eurotechtrading.s3.ap-south-1.amazonaws.com/images/cars/related_5_6g.jpg', 'https://eurotechtrading.s3.ap-south-1.amazonaws.com/images/cars/related_6_6h.jpg'], 'createdAt': '2024-03-04T08:23:25.393Z', 'userId': None, 'dealerId': None}, {'id': '65e586ec473b761be3fddd49', 'name': '2014 Lamborghini Aventador ', 'slug': 'lamborgini-aventador', 'price': 35000, 'isFeatured': True, 'heroimagealttag': 'lamborgini', 'description': '2014 Lamborghini Aventador LP 700-4 FULL Stealth PPF, IPE Exhaust + Carbon', 'year': '2014', 'kilometers': '12356', 'transmission': 'Automatic', 'exteriorcolor': 'black', 'warranty': 'Available', 'interiorcolor': 'black', 'horsepower': '240', 'enginesize': '6.5 V12 691', 'specs': 'dghh', 'vin': 'ZHWUR1ZF7GLA05381', 'forBidding': False, 'heroCarImage': 'https://eurotechtrading.s3.ap-south-1.amazonaws.com/images/cars/7a.jpg', 'carImages': ['https://eurotechtrading.s3.ap-south-1.amazonaws.com/images/cars/related_1_7b.jpg', 'https://eurotechtrading.s3.ap-south-1.amazonaws.com/images/cars/related_2_7c.jpg', 'https://eurotechtrading.s3.ap-south-1.amazonaws.com/images/cars/related_3_7e.jpg'], 'createdAt': '2024-03-04T08:31:40.227Z', 'userId': None, 'dealerId': None}, {'id': '65e587cd473b761be3fddd4a', 'name': 'Ferrari 458', 'slug': 'ferrari-458', 'price': 255000, 'isFeatured': False, 'heroimagealttag': 'ferrari', 'description': \"This already beautiful 2013 Ferrari 458 has been modified to perfection. The H&R lowering springs and unmistakable 458 Speciale wheels increase road presence and compliment the spec perfectly. The 458 is the last of Ferrari's naturally aspirated V8 supercars and is on track to be a collectors car, enhancing this cars resale value exponentially. This is one of the highest option 458's on the market, fitted with carbon race seats, carbon dash inserts, carbon driver zone, carbon front spoiler, carbon side skirts, F/R parking sensors, and much more. On top of the premium hi-fi system, an aftermarket dual subwoofer system has been installed behind the seats that will blow you and your passengers away. This loaded spec will not last at this price, act fast before it's gone! \", 'year': '2013', 'kilometers': '17795', 'transmission': 'Automatic', 'exteriorcolor': 'white', 'warranty': 'Available', 'interiorcolor': 'black', 'horsepower': '562', 'enginesize': '4.5L V8 562hp', 'specs': 'GCC', 'vin': 'ZHWUR1ZF7GLA05381', 'forBidding': False, 'heroCarImage': 'https://eurotechtrading.s3.ap-south-1.amazonaws.com/images/cars/8a.jpg', 'carImages': ['https://eurotechtrading.s3.ap-south-1.amazonaws.com/images/cars/related_0_8e.jpg', 'https://eurotechtrading.s3.ap-south-1.amazonaws.com/images/cars/related_1_8b.jpg', 'https://eurotechtrading.s3.ap-south-1.amazonaws.com/images/cars/related_2_8c.jpg'], 'createdAt': '2024-03-04T08:35:25.848Z', 'userId': None, 'dealerId': None}, {'id': '65e58a3b473b761be3fddd4c', 'name': ' Rolls-Royce ', 'slug': 'rolls-royce', 'price': 215000, 'isFeatured': False, 'heroimagealttag': '', 'description': \"We are pleased to introduce this rare and sought after 2016 Wraith Inspired by Music edition. The interior and exterior configuration is unlike anything else. The extremely unique Lyrical Copper Metallic paint contains a beautiful copper flake that shines when light hits it. To make it even better, the interior features the unmatched bespoke audio, starlight headliner, and super rare rose gold interior trim including the speaker covers. This stunning spec is sure to sell fast, don't miss the chance to make it yours. \", 'year': '2016', 'kilometers': '20642', 'transmission': 'Automatic', 'exteriorcolor': 'Copper', 'warranty': 'Available', 'interiorcolor': 'black', 'horsepower': '624', 'enginesize': '6.6L Twin Turbo V12 624hp 590ft. lbs.', 'specs': 'GCC', 'vin': 'ZHWUR1ZF7GLA05381', 'forBidding': False, 'heroCarImage': 'https://eurotechtrading.s3.ap-south-1.amazonaws.com/images/cars/10a.jpg', 'carImages': ['https://eurotechtrading.s3.ap-south-1.amazonaws.com/images/cars/related_0_10b.jpg', 'https://eurotechtrading.s3.ap-south-1.amazonaws.com/images/cars/related_1_10c.jpg', 'https://eurotechtrading.s3.ap-south-1.amazonaws.com/images/cars/related_2_10e.jpg'], 'createdAt': '2024-03-04T08:45:47.026Z', 'userId': None, 'dealerId': None}, {'id': '65e58b02473b761be3fddd4d', 'name': 'Lamborghini Huracan', 'slug': 'lamborgini-hurrcane', 'price': 281000, 'isFeatured': True, 'heroimagealttag': '', 'description': \"We are thrilled to present this perfectly optioned '15 Huracan in RARE Rosso Mars red paint. With a $281K MSRP, this spec has all that is offered. The forged engine bay with a transparent cover, the must-have front lift system helping to prevent underside damage, the reverse camera with front+rear parking sensors, electric and heated seats, and the navigation system make this stunning spec the one to own. Don't pass up the opportunity to make this rare spec yours. \", 'year': '2015', 'kilometers': '8440', 'transmission': 'Automatic', 'exteriorcolor': 'Rosso Mars', 'warranty': 'Available', 'interiorcolor': ' Nero Ade', 'horsepower': '602', 'enginesize': '5.2L V10 602hp 412ft. lbs.', 'specs': 'GCC', 'vin': 'ZHWUR1ZF7GLA05381', 'forBidding': False, 'heroCarImage': 'https://eurotechtrading.s3.ap-south-1.amazonaws.com/images/cars/11a.jpg', 'carImages': ['https://eurotechtrading.s3.ap-south-1.amazonaws.com/images/cars/related_0_11b.jpg', 'https://eurotechtrading.s3.ap-south-1.amazonaws.com/images/cars/related_1_11c.jpg', 'https://eurotechtrading.s3.ap-south-1.amazonaws.com/images/cars/related_2_11d.jpg', 'https://eurotechtrading.s3.ap-south-1.amazonaws.com/images/cars/related_3_11e.jpg'], 'createdAt': '2024-03-04T08:49:06.905Z', 'userId': None, 'dealerId': None}, {'id': '65e594ae473b761be3fddd54', 'name': 'McLaren-570S', 'slug': 'mclaren', 'price': 155000, 'isFeatured': True, 'heroimagealttag': 'lamborgini', 'description': \"Flashy and loaded with must-have options, as a Huracan Should be. This special order Arancio Borealis '15 Huracan is one of the hottest specs we have ever seen. Featuring the needed transparent engine bay + forged carbon trim, lifting system helping to prevent underside damage, pearl effect special order paint, reverse camera w/ parking sensors, and much more, this Huracan has it all. \\n\\nFULL paint protection film has been applied to protect the pearl effect paint. \", 'year': '2015', 'kilometers': '15076', 'transmission': 'Automatic', 'exteriorcolor': 'Arancio Borealis 3-Layer (Orange)', 'warranty': 'Available', 'interiorcolor': ' Nero Ade', 'horsepower': '602', 'enginesize': '5.2L V10 602hp 412ft. lbs.', 'specs': 'GCC', 'vin': 'ZHWUR1ZF7GLA05381', 'forBidding': False, 'heroCarImage': 'https://eurotechtrading.s3.ap-south-1.amazonaws.com/images/cars/Used-2019-McLaren-570S-.jpg', 'carImages': ['https://eurotechtrading.s3.ap-south-1.amazonaws.com/images/cars/related_0_14b.jpg', 'https://eurotechtrading.s3.ap-south-1.amazonaws.com/images/cars/related_1_14c.jpg', 'https://eurotechtrading.s3.ap-south-1.amazonaws.com/images/cars/related_2_14d.jpg', 'https://eurotechtrading.s3.ap-south-1.amazonaws.com/images/cars/related_3_14e.jpg', 'https://eurotechtrading.s3.ap-south-1.amazonaws.com/images/cars/related_4_14f.jpg'], 'createdAt': '2024-03-04T09:30:22.459Z', 'userId': None, 'dealerId': None}, {'id': '65eadb13cb1bc03992debda5', 'name': 'Ferrari 458 Spider ', 'slug': 'ferrari-spider', 'price': 255000, 'isFeatured': True, 'heroimagealttag': 'car', 'description': \"This already beautiful 2013 Ferrari 458 has been modified to perfection. The H&R lowering springs and unmistakable 458 Speciale wheels increase road presence and compliment the spec perfectly. The 458 is the last of Ferrari's naturally aspirated V8 supercars and is on track to be a collectors car, enhancing this cars resale value exponentially. This is one of the highest option 458's on the market, fitted with carbon race seats, carbon dash inserts, carbon driver zone, carbon front spoiler, carbon side skirts, F/R parking sensors, and much more. On top of the premium hi-fi system, an aftermarket dual subwoofer system has been installed behind the seats that will blow you and your passengers away. This loaded spec will not last at this price, act fast before it's gone! \", 'year': '2013', 'kilometers': '17,801   ', 'transmission': 'Automatic', 'exteriorcolor': ' Bianco Avus', 'warranty': 'Available', 'interiorcolor': ' Nero', 'horsepower': '562', 'enginesize': ' 4.5L V8 562hp 398ft. lbs.', 'specs': 'GCC', 'vin': 'ZHWUR1ZF7GLA05381', 'forBidding': False, 'heroCarImage': 'https://eurotechtrading.s3.ap-south-1.amazonaws.com/images/cars/01.jpg', 'carImages': ['https://eurotechtrading.s3.ap-south-1.amazonaws.com/images/cars/related_0_02.jpg', 'https://eurotechtrading.s3.ap-south-1.amazonaws.com/images/cars/related_1_03.jpg', 'https://eurotechtrading.s3.ap-south-1.amazonaws.com/images/cars/related_2_03a.jpg'], 'createdAt': '2024-03-08T09:32:03.211Z', 'userId': None, 'dealerId': None}, {'id': '65fac4779277ddc4592aac48', 'name': '2024 Rolls-Royce Spectre', 'slug': 'rolls-royce-spectre', 'price': 567800, 'isFeatured': True, 'heroimagealttag': 'car', 'description': \"The 2024 Rolls-Royce Spectre embodies the pinnacle of luxury and craftsmanship. With a signature combination of elegance and cutting-edge technology the Spectre features a powerful and refined engine delivering a serene yet powerful driving experience. Its opulent interior is adorned with the finest materials advanced infotainment systems and a suite of comfort features. The Rolls-Royce Spectre continues the brand's legacy of creating bespoke extraordinary automobiles for those who seek the epitome of automotive luxury\\nOPTIONAL EQUIPMENT\", 'year': '2024', 'kilometers': '240', 'transmission': '1-Speed Automatic', 'exteriorcolor': 'Arctic White', 'warranty': 'Extended Warranties Available', 'interiorcolor': 'Mandarin', 'horsepower': '577', 'enginesize': 'Electric', 'specs': 'GCC', 'vin': 'ZHWUR1ZF7GLA05381', 'forBidding': False, 'heroCarImage': 'https://eurotechtrading.s3.ap-south-1.amazonaws.com/images/cars/Used-2024-Rolls-Royce-Spectre-1709577126 (10).jpg', 'carImages': ['https://eurotechtrading.s3.ap-south-1.amazonaws.com/images/cars/related_0_Used-2024-Rolls-Royce-Spectre-1709577126 (8).jpg', 'https://eurotechtrading.s3.ap-south-1.amazonaws.com/images/cars/related_1_Used-2024-Rolls-Royce-Spectre-1709577126 (7).jpg', 'https://eurotechtrading.s3.ap-south-1.amazonaws.com/images/cars/related_2_Used-2024-Rolls-Royce-Spectre-1709577126 (6).jpg', 'https://eurotechtrading.s3.ap-south-1.amazonaws.com/images/cars/related_3_Used-2024-Rolls-Royce-Spectre-1709577126 (5).jpg', 'https://eurotechtrading.s3.ap-south-1.amazonaws.com/images/cars/related_4_Used-2024-Rolls-Royce-Spectre-1709577126 (4).jpg', 'https://eurotechtrading.s3.ap-south-1.amazonaws.com/images/cars/related_5_Used-2024-Rolls-Royce-Spectre-1709577126 (3).jpg', 'https://eurotechtrading.s3.ap-south-1.amazonaws.com/images/cars/related_6_Used-2024-Rolls-Royce-Spectre-1709577126 (2).jpg', 'https://eurotechtrading.s3.ap-south-1.amazonaws.com/images/cars/related_7_Used-2024-Rolls-Royce-Spectre-1709577126 (1).jpg'], 'createdAt': '2024-03-20T11:11:51.452Z', 'userId': None, 'dealerId': None}, {'id': '65fac5ad9277ddc4592aac49', 'name': '2006 Ford GT Base', 'slug': 'ford-gt-base', 'price': 484999, 'isFeatured': True, 'heroimagealttag': 'car', 'description': \"The reimagined classic is here at Vegas Auto Gallery! This is one of the most mint condition Ford GT's on the market to date. With all four factory options fitted in this is one vehicle we do not expect to last long. Call click or stop by today!\", 'year': '2006', 'kilometers': '1,348', 'transmission': 'Ricardo 6-Speed Manual', 'exteriorcolor': 'Mark IV Red Clearcoat', 'warranty': 'Balance of Factory Warranty', 'interiorcolor': 'Ebony Black', 'horsepower': '550', 'enginesize': ' 5.4L V8 (Supercharged)', 'specs': 'GCC', 'vin': 'ZHWUR1ZF7GLA05381', 'forBidding': False, 'heroCarImage': 'https://eurotechtrading.s3.ap-south-1.amazonaws.com/images/cars/Used-2006-Ford-GT-Base-1676772474 (5).jpg', 'carImages': ['https://eurotechtrading.s3.ap-south-1.amazonaws.com/images/cars/related_0_Used-2006-Ford-GT-Base-1676772474 (4).jpg', 'https://eurotechtrading.s3.ap-south-1.amazonaws.com/images/cars/related_1_Used-2006-Ford-GT-Base-1676772474 (3).jpg', 'https://eurotechtrading.s3.ap-south-1.amazonaws.com/images/cars/related_2_Used-2006-Ford-GT-Base-1676772474 (2).jpg', 'https://eurotechtrading.s3.ap-south-1.amazonaws.com/images/cars/related_3_Used-2006-Ford-GT-Base-1676772474 (1).jpg'], 'createdAt': '2024-03-20T11:17:01.240Z', 'userId': None, 'dealerId': None}, {'id': '65fac6f79277ddc4592aac4a', 'name': '2024 Porsche 911 Dakar', 'slug': 'porsche-911-dakar', 'price': 444999, 'isFeatured': True, 'heroimagealttag': 'car', 'description': \"This 2024 Porsche 911 Dakar in elegant Stone Gray Paint to Sample is a one-owner car that perfectly encapsulates Porsche's luxury and performance. The interior a blend of black leather and paint to sample stitching adds sporty sophistication. Enhanced with a practical roof basket and safeguarded this car is well-equipped for both performance and durability. Its meticulous upkeep under single ownership ensures it remains a pristine example of Porsche's high-end automotive craftsmanship.\", 'year': '2024', 'kilometers': '19', 'transmission': '8-Speed Porsche Doppelkupplung (PDK)', 'exteriorcolor': 'Stone Grey (paint to sample)', 'warranty': 'Balance of Factory Warranty (if applicable)', 'interiorcolor': 'Black', 'horsepower': '473', 'enginesize': '3.0L H6 (Twin-Turbo)', 'specs': 'GCC', 'vin': 'ZHWUR1ZF7GLA05381', 'forBidding': False, 'heroCarImage': 'https://eurotechtrading.s3.ap-south-1.amazonaws.com/images/cars/Used-2024-Porsche-911-Dakar-1706583828 (4).jpg', 'carImages': ['https://eurotechtrading.s3.ap-south-1.amazonaws.com/images/cars/related_0_Used-2024-Porsche-911-Dakar-1706583828 (3).jpg', 'https://eurotechtrading.s3.ap-south-1.amazonaws.com/images/cars/related_1_Used-2024-Porsche-911-Dakar-1706583828 (2).jpg', 'https://eurotechtrading.s3.ap-south-1.amazonaws.com/images/cars/related_2_Used-2024-Porsche-911-Dakar-1706583828 (1).jpg'], 'createdAt': '2024-03-20T11:22:31.245Z', 'userId': None, 'dealerId': None}, {'id': '65fac7f39277ddc4592aac4b', 'name': '2021 McLaren 765LT Base', 'slug': 'mclaren-765lt-base', 'price': 436800, 'isFeatured': True, 'heroimagealttag': 'car', 'description': 'The 2021 McLaren 765LT is a track-focused supercar that embodies the pinnacle of performance and aerodynamic precision. Powered by a 4.0-liter twin-turbocharged V8 engine the 765LT unleashes a staggering 755 horsepower catapulting it from 0 to 60 mph in just 2.7 seconds. Its lightweight design enhanced aerodynamics and extended bodywork contribute to exceptional agility and downforce making it a formidable presence on both the road and track. The interior of the 765LT is a blend of luxury and racing-inspired elements providing a driver-centric cockpit for an immersive and exhilarating driving experience.', 'year': '2021', 'kilometers': '7,115', 'transmission': '7-Speed Manual', 'exteriorcolor': 'Paris Blue', 'warranty': 'Balance of Factory Warranty (if applicable)', 'interiorcolor': 'Carbon Black', 'horsepower': ' 755', 'enginesize': '4.0L V8 (Twin-Turbo)', 'specs': 'GCC', 'vin': 'ZHWUR1ZF7GLA05381', 'forBidding': False, 'heroCarImage': 'https://eurotechtrading.s3.ap-south-1.amazonaws.com/images/cars/Used-2021-McLaren-765LT-Base-1708397622 (5).jpg', 'carImages': ['https://eurotechtrading.s3.ap-south-1.amazonaws.com/images/cars/related_0_Used-2021-McLaren-765LT-Base-1708397622 (4).jpg', 'https://eurotechtrading.s3.ap-south-1.amazonaws.com/images/cars/related_1_Used-2021-McLaren-765LT-Base-1708397622 (3).jpg', 'https://eurotechtrading.s3.ap-south-1.amazonaws.com/images/cars/related_2_Used-2021-McLaren-765LT-Base-1708397622 (2).jpg', 'https://eurotechtrading.s3.ap-south-1.amazonaws.com/images/cars/related_3_Used-2021-McLaren-765LT-Base-1708397622 (1).jpg'], 'createdAt': '2024-03-20T11:26:43.541Z', 'userId': None, 'dealerId': None}, {'id': '65fac8df9277ddc4592aac4c', 'name': '2023 Rolls-Royce Cullinan Base', 'slug': 'rolls-royce-cullinan-base', 'price': 429800, 'isFeatured': True, 'heroimagealttag': 'car', 'description': 'The 2022 Rolls-Royce Cullinan is the epitome of luxury SUVs embodying the timeless elegance and opulence synonymous with the prestigious brand. Its iconic design characterized by the Spirit of Ecstasy hood ornament and a bold commanding presence sets it apart on the road. The lavish interior adorned with the finest materials features handcrafted details and offers a serene sanctuary for occupants. Under the hood a potent engine likely a V12 provides a seamless and powerful driving experience ensuring the Cullinan effortlessly glides over any terrain. With state-of-the-art technology a bespoke approach to customization and an uncompromising commitment to craftsmanship the 2022 Rolls-Royce Cullinan stands as a pinnacle of automotive luxury and sophistication.', 'year': '2023 ', 'kilometers': '1,540', 'transmission': '8-Speed Automatic', 'exteriorcolor': 'Black Diamond', 'warranty': 'Balance of Factory Warranty (if applicable)', 'interiorcolor': 'Mandarin', 'horsepower': ' 563', 'enginesize': '6.7L 12-Cylinder Turbocharged DOHC', 'specs': 'GCC', 'vin': 'ZHWUR1ZF7GLA05381', 'forBidding': False, 'heroCarImage': 'https://eurotechtrading.s3.ap-south-1.amazonaws.com/images/cars/Used-2023-Rolls-Royce-Cullinan-Base-1706237734 (3).jpg', 'carImages': ['https://eurotechtrading.s3.ap-south-1.amazonaws.com/images/cars/related_0_Used-2023-Rolls-Royce-Cullinan-Base-1706237734.jpg', 'https://eurotechtrading.s3.ap-south-1.amazonaws.com/images/cars/related_1_Used-2023-Rolls-Royce-Cullinan-Base-1705802539 (1).jpg', 'https://eurotechtrading.s3.ap-south-1.amazonaws.com/images/cars/related_2_Used-2023-Rolls-Royce-Cullinan-Base-1705802539.jpg'], 'createdAt': '2024-03-20T11:30:39.617Z', 'userId': None, 'dealerId': None}, {'id': '65fac9fa9277ddc4592aac4d', 'name': '2021 Ferrari F8 Tributo Base', 'slug': 'ferrari-f8-tributo-base', 'price': 384800, 'isFeatured': True, 'heroimagealttag': 'car', 'description': \"You simply can't compare this F8 Tributo to any other supercar on or off the market. This vehicle is optioned very highly from the factory. Being timelessly finished in a White exterior with a Red interior we suggest you don't let this opportunity pass you by. Call click or stop in today!\", 'year': '2021', 'kilometers': '4,525', 'transmission': '7-Speed Automatic', 'exteriorcolor': 'Bianco Avus', 'warranty': 'Balance of Factory Warranty (if applicable)', 'interiorcolor': 'Rosso Ferrari', 'horsepower': ' 710', 'enginesize': '3.9L V8', 'specs': 'GCC', 'vin': 'ZHWUR1ZF7GLA05381', 'forBidding': False, 'heroCarImage': 'https://eurotechtrading.s3.ap-south-1.amazonaws.com/images/cars/Used-2021-Ferrari-F8-Tributo-Base-1710288170 (1).jpg', 'carImages': ['https://eurotechtrading.s3.ap-south-1.amazonaws.com/images/cars/related_0_Used-2021-Ferrari-F8-Tributo-Base-1710288170.jpg', 'https://eurotechtrading.s3.ap-south-1.amazonaws.com/images/cars/related_1_Used-2021-Ferrari-F8-Tributo-Base-1710288127.jpg', 'https://eurotechtrading.s3.ap-south-1.amazonaws.com/images/cars/related_2_Used-2021-Ferrari-F8-Tributo-Base-1706380652.jpg'], 'createdAt': '2024-03-20T11:35:22.684Z', 'userId': None, 'dealerId': None}, {'id': '65facac89277ddc4592aac4e', 'name': '2015 Lamborghini Aventador LP700-4', 'slug': 'lamborghini-aventador-lp700-4', 'price': 379800, 'isFeatured': True, 'heroimagealttag': 'car', 'description': 'The 2015 Lamborghini Aventador is a breathtaking supercar that exudes power and style in equal measure. Its iconic design features sharp lines aggressive angles and signature scissor doors instantly recognizable on any road. Under the hood a monstrous 6.5-liter V12 engine roars to life delivering a staggering 700 horsepower to all four wheels catapulting the Aventador from 0 to 60 mph in just 2.9 seconds. Its advanced carbon fiber monocoque chassis ensures unparalleled rigidity and handling prowess while the seven-speed ISR transmission provides lightning-fast gear changes for an exhilarating driving experience. Inside the cockpit luxurious materials abound with leather upholstery carbon fiber accents and cutting-edge technology seamlessly integrated to create an environment befitting of its supercar status. Whether on the track or cruising the streets the 2015 Lamborghini Aventador commands attention and admiration at every turn.', 'year': '2015', 'kilometers': '15,357', 'transmission': '7-Speed Automated Manual with ISR', 'exteriorcolor': 'Arancio Argos Pearl Effect', 'warranty': 'Balance of Factory Warranty (if applicable)', 'interiorcolor': 'Nero Ade', 'horsepower': '700', 'enginesize': 'V12', 'specs': 'GCC', 'vin': 'ZHWUR1ZF7GLA05381', 'forBidding': False, 'heroCarImage': 'https://eurotechtrading.s3.ap-south-1.amazonaws.com/images/cars/Used-2015-Lamborghini-Aventador-LP700-4-1710445731 (3).jpg', 'carImages': ['https://eurotechtrading.s3.ap-south-1.amazonaws.com/images/cars/related_0_Used-2015-Lamborghini-Aventador-LP700-4-1710445731 (2).jpg', 'https://eurotechtrading.s3.ap-south-1.amazonaws.com/images/cars/related_1_Used-2015-Lamborghini-Aventador-LP700-4-1710544389.jpg', 'https://eurotechtrading.s3.ap-south-1.amazonaws.com/images/cars/related_2_Used-2015-Lamborghini-Aventador-LP700-4-1710445731.jpg'], 'createdAt': '2024-03-20T11:38:48.798Z', 'userId': None, 'dealerId': None}, {'id': '65facb7e9277ddc4592aac4f', 'name': '2022 Lamborghini Huracan STO Base', 'slug': 'lamborghini-huracan-sto-base', 'price': 369800, 'isFeatured': True, 'heroimagealttag': 'car', 'description': 'The 2022 Lamborghini Huracan STO is a track-focused supercar that combines aggressive styling with exceptional performance. With a lightweight design and powerful V10 engine producing over 600 horsepower the STO delivers blistering acceleration and exhilarating handling. Its aerodynamic enhancements including a large rear wing and front splitter provide increased downforce for improved stability at high speeds. The stripped-out interior features carbon fiber accents and racing-inspired elements emphasizing its track-oriented nature. Advanced technology such as adaptive suspension and dynamic steering ensures precise control and responsiveness on both the road and the track. Overall the Lamborghini Huracan STO offers an uncompromising driving experience tailored for enthusiasts seeking the ultimate thrill.', 'year': '2022', 'kilometers': '2,808', 'transmission': '7-Speed Manual', 'exteriorcolor': 'Amaranto Metallic', 'warranty': 'Balance of Factory Warranty (if applicable)', 'interiorcolor': 'Nero Cosmus Alcantara Upholstery', 'horsepower': '600', 'enginesize': '5.2L V10', 'specs': 'GCC', 'vin': 'ZHWUR1ZF7GLA05381', 'forBidding': False, 'heroCarImage': 'https://eurotechtrading.s3.ap-south-1.amazonaws.com/images/cars/Used-2022-Lamborghini-Huracan-STO-Base-1707341823 (2).jpg', 'carImages': ['https://eurotechtrading.s3.ap-south-1.amazonaws.com/images/cars/related_0_Used-2022-Lamborghini-Huracan-STO-Base-1707328097 (2).jpg', 'https://eurotechtrading.s3.ap-south-1.amazonaws.com/images/cars/related_1_Used-2022-Lamborghini-Huracan-STO-Base-1707341823.jpg', 'https://eurotechtrading.s3.ap-south-1.amazonaws.com/images/cars/related_2_Used-2022-Lamborghini-Huracan-STO-Base-1707328097 (1).jpg'], 'createdAt': '2024-03-20T11:41:50.140Z', 'userId': None, 'dealerId': None}, {'id': '65facd309277ddc4592aac50', 'name': '2020 Koenigsegg Regera CMP', 'slug': 'koenigsegg-regera-cmp', 'price': 3795000, 'isFeatured': True, 'heroimagealttag': 'car', 'description': 'The 2020 Koenigsegg Regera CMP is an exceptional hypercar that epitomizes cutting-edge automotive engineering and design. Boasting an unparalleled combination of power innovation and luxury the Regera CMP pushes the boundaries of performance. At its heart lies a hybrid powertrain consisting of a 5.0-liter twin-turbocharged V8 engine that churns out a staggering 1100 horsepower augmented by an advanced electric propulsion system. This results in a mind-boggling combined power output of over 1500 horsepower propelling the car from 0 to 60 mph in mere seconds. Its carbon fiber monocoque chassis ensures remarkable strength and lightweight construction contributing to its exceptional speed and agility. Meticulous attention to aerodynamics including active elements and underbody venturis not only enhances its high-speed stability but also complements its striking exterior design. The interior showcases a blend of opulence and technology featuring premium materials bespoke finishes and state-of-the-art infotainment and driver assistance systems offering an extraordinary driving experience that matches its extraordinary performance.', 'year': '2020', 'kilometers': '1,412', 'transmission': '1-Speed Fixed Gear', 'exteriorcolor': 'Clear Carbon', 'warranty': 'Extended Warranties Available', 'interiorcolor': 'Desiato', 'horsepower': '1500', 'enginesize': '5.0L Twin-Turbo V8', 'specs': 'GCC', 'vin': 'ZHWUR1ZF7GLA05381', 'forBidding': False, 'heroCarImage': 'https://eurotechtrading.s3.ap-south-1.amazonaws.com/images/cars/Used-2020-Koenigsegg-Regera-CMP-1692842856 (4).jpg', 'carImages': ['https://eurotechtrading.s3.ap-south-1.amazonaws.com/images/cars/related_0_Used-2020-Koenigsegg-Regera-CMP-1692842856 (2).jpg', 'https://eurotechtrading.s3.ap-south-1.amazonaws.com/images/cars/related_1_Used-2020-Koenigsegg-Regera-CMP-1692842856 (1).jpg', 'https://eurotechtrading.s3.ap-south-1.amazonaws.com/images/cars/related_2_Used-2020-Koenigsegg-Regera-CMP-1692842856.jpg', 'https://eurotechtrading.s3.ap-south-1.amazonaws.com/images/cars/related_3_Used-2020-Koenigsegg-Regera-CMP-1692842541 (1).jpg', 'https://eurotechtrading.s3.ap-south-1.amazonaws.com/images/cars/related_4_Used-2020-Koenigsegg-Regera-CMP-1692842541.jpg'], 'createdAt': '2024-03-20T11:49:04.557Z', 'userId': None, 'dealerId': None}, {'id': '65face2a9277ddc4592aac51', 'name': '2023 Ferrari 812 GTS Base', 'slug': 'ferrari-812-gts-base', 'price': 664800, 'isFeatured': True, 'heroimagealttag': 'car', 'description': 'The 2023 Ferrari 812 GTS epitomizes the essence of open-top motoring combined with extraordinary performance. Housing a magnificent 6.5-liter naturally aspirated V12 engine under its sculpted hood the 812 GTS roars to life unleashing an astonishing 789 horsepower and 530 lb-ft of torque. With a retractable hardtop that redefines convertible elegance this prancing horse accelerates from 0 to 60 mph in a breathtaking 2.8 seconds delivering an exhilarating driving experience. Inside the 812 GTS boasts a cockpit adorned with premium materials advanced technology and bespoke touches ensuring that every moment behind the wheel is a symphony of speed and luxury.\\n\\n', 'year': ' 2023', 'kilometers': ' 58', 'transmission': '7-Speed Automatic', 'exteriorcolor': 'Rosso Corsa', 'warranty': 'Extended Warranties Available', 'interiorcolor': 'Nero', 'horsepower': '789', 'enginesize': 'V12', 'specs': 'GCC', 'vin': 'ZHWUR1ZF7GLA05381', 'forBidding': False, 'heroCarImage': 'https://eurotechtrading.s3.ap-south-1.amazonaws.com/images/cars/Used-2023-Ferrari-812-GTS-Base-1703210837.jpg', 'carImages': ['https://eurotechtrading.s3.ap-south-1.amazonaws.com/images/cars/related_1_Used-2023-Ferrari-812-GTS-Base-1701888062 (1).jpg', 'https://eurotechtrading.s3.ap-south-1.amazonaws.com/images/cars/related_2_Used-2023-Ferrari-812-GTS-Base-1701888062.jpg'], 'createdAt': '2024-03-20T11:53:14.564Z', 'userId': None, 'dealerId': None}, {'id': '65facef59277ddc4592aac52', 'name': '2024 Lamborghini Urus', 'slug': 'lamborghini-urus', 'price': 396800, 'isFeatured': True, 'heroimagealttag': 'car', 'description': \"The 2024 Lamborghini Urus Performante is a high-performance SUV that combines luxurious design with powerful capabilities. Under the hood it boasts a robust twin-turbocharged V8 engine that delivers an exhilarating driving experience pushing the boundaries of speed and agility. Its aerodynamic enhancements not only contribute to its striking appearance but also improve overall performance. The interior is a blend of opulence and sportiness featuring premium materials and advanced technology. With a refined suspension system and dynamic driving modes the Urus Performante ensures a thrilling ride whether cruising on city streets or tearing up the open road. This SUV exemplifies Lamborghini's commitment to crafting vehicles that seamlessly merge luxury performance and style.\\n\", 'year': '2024', 'kilometers': ' 257', 'transmission': '8-Speed Automatic', 'exteriorcolor': 'Nero Nemesis MattMatt', 'warranty': 'Balance of Factory Warranty (if applicable)', 'interiorcolor': 'Black', 'horsepower': '657', 'enginesize': '4.0L V8 Twin Turbocharged', 'specs': 'GCC', 'vin': 'ZHWUR1ZF7GLA05381', 'forBidding': False, 'heroCarImage': 'https://eurotechtrading.s3.ap-south-1.amazonaws.com/images/cars/Used-2024-Lamborghini-Urus-1706289620 (1).jpg', 'carImages': ['https://eurotechtrading.s3.ap-south-1.amazonaws.com/images/cars/related_0_Used-2024-Lamborghini-Urus-1706289620.jpg', 'https://eurotechtrading.s3.ap-south-1.amazonaws.com/images/cars/related_1_Used-2024-Lamborghini-Urus-1706289554 (2).jpg', 'https://eurotechtrading.s3.ap-south-1.amazonaws.com/images/cars/related_2_Used-2024-Lamborghini-Urus-1706289554 (1).jpg'], 'createdAt': '2024-03-20T11:56:37.748Z', 'userId': None, 'dealerId': None}, {'id': '65facfbd9277ddc4592aac53', 'name': '2022 Rolls-Royce Ghost Black Badge', 'slug': 'rolls-royce-ghost-black-badge', 'price': 357800, 'isFeatured': True, 'heroimagealttag': 'car', 'description': \"The 2022 Rolls-Royce Ghost Black Badge epitomizes luxury and performance representing the pinnacle of automotive refinement. With its iconic design cues and commanding presence the Ghost Black Badge exudes elegance and exclusivity on the road. Equipped with a potent 6.75-liter twin-turbocharged V12 engine it delivers effortless power and performance propelling the car with serene acceleration. The Black Badge variant adds a touch of sportiness and edge to the Ghost's sophisticated persona featuring darkened accents and unique styling elements that set it apart from the standard model. Inside the cabin offers a sanctuary of opulence with handcrafted materials exquisite detailing and cutting-edge technology providing a sumptuous driving experience for both the driver and passengers. With its unparalleled craftsmanship refined performance and bespoke luxury the 2022 Rolls-Royce Ghost Black Badge represents the epitome of automotive excellence and serves as the ultimate expression of refined motoring.\\n\", 'year': '2022', 'kilometers': '5,986', 'transmission': '8-Speed Automatic', 'exteriorcolor': 'Black', 'warranty': 'Balance of Factory Warranty (if applicable)', 'interiorcolor': 'Orange / Black Trim', 'horsepower': '603', 'enginesize': '6.7L V12 DOHC', 'specs': 'GCC', 'vin': 'ZHWUR1ZF7GLA05381', 'forBidding': False, 'heroCarImage': 'https://eurotechtrading.s3.ap-south-1.amazonaws.com/images/cars/Used-2022-Rolls-Royce-Ghost-Black-Badge-1710012038 (4).jpg', 'carImages': ['https://eurotechtrading.s3.ap-south-1.amazonaws.com/images/cars/related_0_Used-2022-Rolls-Royce-Ghost-Black-Badge-1710012038 (3).jpg', 'https://eurotechtrading.s3.ap-south-1.amazonaws.com/images/cars/related_1_Used-2022-Rolls-Royce-Ghost-Black-Badge-1710012038 (2).jpg', 'https://eurotechtrading.s3.ap-south-1.amazonaws.com/images/cars/related_2_Used-2022-Rolls-Royce-Ghost-Black-Badge-1710012038 (1).jpg'], 'createdAt': '2024-03-20T11:59:57.120Z', 'userId': None, 'dealerId': None}, {'id': '65fad09d9277ddc4592aac54', 'name': '2023 Mercedes-Benz G-Class G 63 AMG®', 'slug': 'mercedes-benz-g-class-g-63-amg', 'price': 379800, 'isFeatured': True, 'heroimagealttag': 'car', 'description': 'The 2023 Mercedes Benz G-Class G63 AMG 4x4 is a rugged and luxurious SUV that seamlessly blends off-road capability with high-performance design. Its distinctive boxy silhouette remains an iconic symbol of strength and durability. Powered by a robust 4.0-liter twin-turbocharged V8 engine the G63 AMG 4x4 delivers an impressive 577 horsepower and 627 lb-ft of torque ensuring exhilarating acceleration and dynamic driving experiences. The advanced 4x4 system three locking differentials and adaptive suspension make it a formidable off-road companion conquering rough terrains with ease. The opulent interior features premium materials cutting-edge technology and comfort-focused amenities providing a lavish and enjoyable driving environment. With its unique blend of timeless design high-performance capabilities and luxurious appointments the 2023 Mercedes Benz G63 AMG 4x4 stands out as a top-tier SUV for those who seek the ultimate in both style and substance.', 'year': '2023', 'kilometers': '2,035', 'transmission': '9-Speed Automatic', 'exteriorcolor': 'Obsidian Black Metallic', 'warranty': 'Extended Warranties Available', 'interiorcolor': 'Black', 'horsepower': '577', 'enginesize': 'V8', 'specs': 'GCC', 'vin': 'ZHWUR1ZF7GLA05381', 'forBidding': False, 'heroCarImage': 'https://eurotechtrading.s3.ap-south-1.amazonaws.com/images/cars/Used-2023-Mercedes-Benz-G-Class-G-63-AMG®-1706145551 (3).jpg', 'carImages': ['https://eurotechtrading.s3.ap-south-1.amazonaws.com/images/cars/related_0_Used-2023-Mercedes-Benz-G-Class-G-63-AMG®-1706145551 (2).jpg', 'https://eurotechtrading.s3.ap-south-1.amazonaws.com/images/cars/related_1_Used-2023-Mercedes-Benz-G-Class-G-63-AMG®-1706145551 (1).jpg'], 'createdAt': '2024-03-20T12:03:41.681Z', 'userId': None, 'dealerId': None}, {'id': '65fc15b49277ddc4592aac60', 'name': '2022 Ferrari F8 Tributo Base', 'slug': '2022-ferrari-f8-tributo-base', 'price': 369800, 'isFeatured': True, 'heroimagealttag': 'car', 'description': \"The 2022 Ferrari F8 Tributo Coupe epitomizes the pinnacle of Italian automotive engineering boasting a perfect blend of performance and style. Its sleek and aerodynamic design is a tribute to Ferrari's rich racing heritage featuring smooth curves and aggressive lines that demand attention. Under the hood the F8 Tributo is powered by a ferocious 3.9-liter twin-turbocharged V8 engine producing a staggering 710 horsepower and 568 lb-ft of torque. This power is transmitted to the rear wheels through a lightning-fast seven-speed dual-clutch automatic transmission allowing the F8 Tributo to accelerate from 0 to 60 mph in just 2.9 seconds. The cabin exudes luxury and sophistication with premium materials and cutting-edge technology seamlessly integrated throughout. With its exhilarating performance and iconic styling the 2022 Ferrari F8 Tributo Coupe sets the standard for supercars in its class.\", 'year': '2022 ', 'kilometers': '16,028', 'transmission': '7-Speed Automatic', 'exteriorcolor': 'Nero Daytona Metallic', 'warranty': 'Balance of Factory Warranty (if applicable)', 'interiorcolor': 'Rosso Ferrari', 'horsepower': '710', 'enginesize': '3.9L V8', 'specs': 'GCC', 'vin': 'ZHWUR1ZF7GLA05381', 'forBidding': False, 'heroCarImage': 'https://eurotechtrading.s3.ap-south-1.amazonaws.com/images/cars/Used-2022-Ferrari-F8-Tributo-Base-1709940717 (4).jpg', 'carImages': ['https://eurotechtrading.s3.ap-south-1.amazonaws.com/images/cars/related_0_Used-2022-Ferrari-F8-Tributo-Base-1709940717 (3).jpg', 'https://eurotechtrading.s3.ap-south-1.amazonaws.com/images/cars/related_1_Used-2022-Ferrari-F8-Tributo-Base-1709940717 (2).jpg', 'https://eurotechtrading.s3.ap-south-1.amazonaws.com/images/cars/related_2_Used-2022-Ferrari-F8-Tributo-Base-1709940717 (1).jpg'], 'createdAt': '2024-03-21T11:10:44.376Z', 'userId': None, 'dealerId': None}], 'meta': {'values': {'0.createdAt': ['Date'], '1.createdAt': ['Date'], '2.createdAt': ['Date'], '3.createdAt': ['Date'], '4.createdAt': ['Date'], '5.createdAt': ['Date'], '6.createdAt': ['Date'], '7.createdAt': ['Date'], '8.createdAt': ['Date'], '9.createdAt': ['Date'], '10.createdAt': ['Date'], '11.createdAt': ['Date'], '12.createdAt': ['Date'], '13.createdAt': ['Date'], '14.createdAt': ['Date'], '15.createdAt': ['Date'], '16.createdAt': ['Date'], '17.createdAt': ['Date'], '18.createdAt': ['Date'], '19.createdAt': ['Date'], '20.createdAt': ['Date'], '21.createdAt': ['Date'], '22.createdAt': ['Date']}}}}}\n"
     ]
    }
   ],
   "source": [
    "import requests\n",
    "\n",
    "# This sends a GET request to the specified URL\n",
    "response = requests.get(\"https://eurotechxchange.com/api/trpc/car.getCars\")\n",
    "\n",
    "# Check if the request was successful\n",
    "if response.status_code == 200:\n",
    "  # If the request is successful, you can access the data like this\n",
    "  data = response.json()\n",
    "  print(data)\n",
    "else:\n",
    "  print(\"Error:\", response.status_code)\n"
   ]
  },
  {
   "cell_type": "code",
   "execution_count": 5,
   "metadata": {},
   "outputs": [],
   "source": [
    "import json\n",
    "\n",
    "\n",
    "j = []\n",
    "for i in data[\"result\"][\"data\"][\"json\"]:\n",
    "    text = {\n",
    "        \"heading\": \"Car Details\",\n",
    "        \"paragraph\": f\"Name of car is {i['name']} and the cost is {i['price']} and the information of car is {i['description']} which is {i['year']} old it already runed {i['kilometers']} which has {i['transmission']} trasmission. exterior color of car is {i['exteriorcolor']} and interior color of car is {i['interiorcolor']}, warranty is {i['warranty']}. it has horsepower of {i['horsepower']} and fuel type or engine is {i['enginesize']}.\"\n",
    "    }\n",
    "    j.append(text)\n",
    "\n",
    "with open(\"categorized_data.json\", \"a\") as f:\n",
    "    json.dump(j, f)\n"
   ]
  },
  {
   "cell_type": "code",
   "execution_count": 84,
   "metadata": {},
   "outputs": [],
   "source": [
    "json.dump(json_data.replace(\"\\\\n\",\"\").replace(\"\\\\\",\"\"),open(\"catgorized_data.json\",\"w\"))"
   ]
  },
  {
   "cell_type": "code",
   "execution_count": null,
   "metadata": {},
   "outputs": [],
   "source": []
  }
 ],
 "metadata": {
  "kernelspec": {
   "display_name": "Python 3",
   "language": "python",
   "name": "python3"
  },
  "language_info": {
   "codemirror_mode": {
    "name": "ipython",
    "version": 3
   },
   "file_extension": ".py",
   "mimetype": "text/x-python",
   "name": "python",
   "nbconvert_exporter": "python",
   "pygments_lexer": "ipython3",
   "version": "3.10.11"
  }
 },
 "nbformat": 4,
 "nbformat_minor": 2
}
